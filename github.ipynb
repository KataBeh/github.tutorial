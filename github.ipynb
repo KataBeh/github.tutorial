{
 "cells": [
  {
   "cell_type": "markdown",
   "id": "e82c2241",
   "metadata": {},
   "source": [
    "## Git & GitHub\n",
    "\n",
    "Kommandon:\n",
    "- git add. = lägger till alla filer för att sparas\n",
    "- git commit -m \"kommentar\" = Sparar projektet i en snapshot"
   ]
  }
 ],
 "metadata": {
  "language_info": {
   "name": "python"
  }
 },
 "nbformat": 4,
 "nbformat_minor": 5
}
