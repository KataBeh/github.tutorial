{
 "cells": [
  {
   "cell_type": "markdown",
   "id": "e82c2241",
   "metadata": {},
   "source": [
    "## Git & GitHub\n",
    "\n",
    "Hjälper oss att arbeta mellan olika personer/ datorer, mm. \n",
    "\n",
    "Hej från conflict branchen\n",
    "\n",
    "Kommandon:\n",
    "- git add. = lägger till alla filer för att sparas\n",
    "- git commit -m \"kommentar\" = Sparar projektet i en snapshot\n",
    "- git push = lägger till våran snaphot på github \n",
    "- git pull = förr över från annan datorn hit"
   ]
  }
 ],
 "metadata": {
  "language_info": {
   "name": "python"
  }
 },
 "nbformat": 4,
 "nbformat_minor": 5
}
